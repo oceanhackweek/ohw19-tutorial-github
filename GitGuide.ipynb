{
 "cells": [
  {
   "cell_type": "markdown",
   "metadata": {},
   "source": [
    "# Git & GitHub Guide\n",
    "\n",
    "## 0. Prerequisites:\n",
    "\n",
    "\n",
    "* Set up git on your laptop and have your `github.com` account. \n",
    "\n",
    "\tInstallation instructions: [https://carpentries.github.io/workshop-template/#git](https://carpentries.github.io/workshop-template/#git)\n",
    "\t\n",
    "\tTest set-up by typing `git` in the terminal (Git-Bash on Windows)\n",
    "\t\n",
    "\n",
    "* Have joined the Oceanhackweek Github Organization."
   ]
  },
  {
   "cell_type": "markdown",
   "metadata": {},
   "source": [
    "## 1. Creating a project repository\n",
    "\n",
    "One person in your group (preferably one who has never done it before) should volunteer and create a repository for the project under the Oceanhackweek organization. \n",
    "\n",
    "https://github.com/oceanhackweek\n",
    "\n",
    "![](img/newRepo.png)\n",
    "\n",
    "Click New and follow the steps: check yes to create README.md\n",
    "\n",
    "* Format project name as `ohw19-project-ProjectName` (you can change the name later)\n",
    "* Invite others to the repo:\n",
    "\t* Settings -> Collaborators\n",
    "\t* Note to collaborators: you will receive an invitation to your email associated with github.com. If you cannnot find it look for the `bell` notifications on the top right of the website."
   ]
  },
  {
   "cell_type": "markdown",
   "metadata": {},
   "source": [
    "## 2. Cloning the repository\n",
    "\n",
    "Each participant should clone the repository so they have their local copy. Navigate through the terminal to the folder where you want to keep Oceanhackweek work. (For this reference the git commands are run from a notebook so they require ! before the command, but in the terminal you do not need it)."
   ]
  },
  {
   "cell_type": "code",
   "execution_count": 3,
   "metadata": {},
   "outputs": [
    {
     "name": "stdout",
     "output_type": "stream",
     "text": [
      "/home/jovyan\n"
     ]
    }
   ],
   "source": [
    "cd .. "
   ]
  },
  {
   "cell_type": "code",
   "execution_count": 6,
   "metadata": {},
   "outputs": [
    {
     "name": "stdout",
     "output_type": "stream",
     "text": [
      "Cloning into 'ohw19-project-ProjectName'...\n",
      "warning: redirecting to https://github.com/oceanhackweek/ohw19-project-ProjectName.git/\n",
      "remote: Enumerating objects: 3, done.\u001b[K\n",
      "remote: Counting objects: 100% (3/3), done.\u001b[K\n",
      "remote: Total 3 (delta 0), reused 0 (delta 0), pack-reused 0\u001b[K\n",
      "Unpacking objects: 100% (3/3), done.\n"
     ]
    }
   ],
   "source": [
    "!git clone https://www.github.com/oceanhackweek/ohw19-project-ProjectName "
   ]
  },
  {
   "cell_type": "code",
   "execution_count": null,
   "metadata": {},
   "outputs": [],
   "source": [
    "This will create a new folder called `ohw19-project-ProjectName`. Navigate to the folder."
   ]
  },
  {
   "cell_type": "code",
   "execution_count": 7,
   "metadata": {},
   "outputs": [
    {
     "name": "stdout",
     "output_type": "stream",
     "text": [
      "/home/jovyan/ohw19-project-ProjectName\n"
     ]
    }
   ],
   "source": [
    "cd ohw19-project-ProjectName"
   ]
  },
  {
   "cell_type": "markdown",
   "metadata": {},
   "source": [
    "## 3. Updating the README.md with your name\n",
    "\n",
    "Open the `README.md` file with your favorite editor create a section\n",
    "\n",
    "## Project Discussion\n",
    "\n",
    "Under this section add your name."
   ]
  },
  {
   "cell_type": "markdown",
   "metadata": {},
   "source": [
    "Then add this change, commit it to the local repository, and push it so that it appears on the github.com website."
   ]
  },
  {
   "cell_type": "code",
   "execution_count": 9,
   "metadata": {},
   "outputs": [
    {
     "name": "stdout",
     "output_type": "stream",
     "text": [
      "# ohw19-project-ProjectName\n",
      "\n",
      "## Project Discussion\n",
      "\n",
      "Valentina Staneva"
     ]
    }
   ],
   "source": [
    "cat README.md"
   ]
  },
  {
   "cell_type": "code",
   "execution_count": 10,
   "metadata": {},
   "outputs": [
    {
     "name": "stdout",
     "output_type": "stream",
     "text": [
      "[master b833ab2] Adding Valentina's name to README.md\n",
      " 1 file changed, 5 insertions(+), 1 deletion(-)\n",
      "Username for 'https://github.com': ^C\n"
     ]
    }
   ],
   "source": [
    "!git add README.md\n",
    "!git commit -m \"Adding Valentina's name to README.md\"\n",
    "!git push origin"
   ]
  },
  {
   "cell_type": "markdown",
   "metadata": {},
   "source": [
    "Make sure your change appears online.\n",
    "\n",
    "! Remember to run `git status` to observe the changes made into the your repository."
   ]
  },
  {
   "cell_type": "code",
   "execution_count": 12,
   "metadata": {},
   "outputs": [
    {
     "name": "stdout",
     "output_type": "stream",
     "text": [
      "On branch master\n",
      "Your branch is up to date with 'origin/master'.\n",
      "\n",
      "Untracked files:\n",
      "  (use \"git add <file>...\" to include in what will be committed)\n",
      "\n",
      "\t\u001b[31m.ipynb_checkpoints/\u001b[m\n",
      "\n",
      "nothing added to commit but untracked files present (use \"git add\" to track)\n"
     ]
    }
   ],
   "source": [
    "!git status"
   ]
  },
  {
   "cell_type": "markdown",
   "metadata": {},
   "source": [
    "Pay attention to the colors.\n",
    "\n",
    "To see the changes in the files run:"
   ]
  },
  {
   "cell_type": "code",
   "execution_count": 13,
   "metadata": {},
   "outputs": [],
   "source": [
    "!git diff "
   ]
  },
  {
   "cell_type": "markdown",
   "metadata": {},
   "source": [
    "## 4. Updating your local repository with the changes of your collaborators"
   ]
  },
  {
   "cell_type": "code",
   "execution_count": 14,
   "metadata": {},
   "outputs": [
    {
     "name": "stdout",
     "output_type": "stream",
     "text": [
      "warning: redirecting to https://github.com/oceanhackweek/ohw19-project-ProjectName.git/\n",
      "From https://www.github.com/oceanhackweek/ohw19-project-ProjectName\n",
      " * branch            master     -> FETCH_HEAD\n",
      "Already up to date.\n"
     ]
    }
   ],
   "source": [
    "!git pull origin master"
   ]
  },
  {
   "cell_type": "markdown",
   "metadata": {},
   "source": [
    "! Remember `origin` is just a short name of the web address of the repository.\n",
    "\n",
    "To see the what is hidden in origin:"
   ]
  },
  {
   "cell_type": "code",
   "execution_count": 15,
   "metadata": {},
   "outputs": [
    {
     "name": "stdout",
     "output_type": "stream",
     "text": [
      "origin\thttps://www.github.com/oceanhackweek/ohw19-project-ProjectName (fetch)\n",
      "origin\thttps://www.github.com/oceanhackweek/ohw19-project-ProjectName (push)\n"
     ]
    }
   ],
   "source": [
    "!git remote -v "
   ]
  },
  {
   "cell_type": "markdown",
   "metadata": {},
   "source": [
    "To practice these steps more, make more changes to the title and the description of the project."
   ]
  },
  {
   "cell_type": "markdown",
   "metadata": {},
   "source": [
    "![](img/centralized_workflow.png)"
   ]
  },
  {
   "cell_type": "markdown",
   "metadata": {},
   "source": [
    "*Ran into a problem?*\n",
    "\n",
    "When working with several people sometimes you\n",
    "\n",
    "* cannot push because changes have been made that have not been incorporated: need to first pull\n",
    "\n",
    "* when pulling you arrive into a merge conflict: need to resolve the conflict manually"
   ]
  },
  {
   "cell_type": "markdown",
   "metadata": {},
   "source": [
    "## 5. Resolving the merge conflict\n",
    "\n",
    "```\n",
    "git status\n",
    "```\n",
    "\n",
    "\n",
    "You will see the file/s which caused the merge conflict in green.\n",
    "\n",
    "Open it and detect the conflict by the special format:\n",
    "\n",
    "```\n",
    "<<<<<<< HEAD\n",
    "my text\n",
    "=======\n",
    "somebody else's text\n",
    ">>>>>>> 35ab35436\n",
    "```\n",
    "\n",
    "\n",
    "Decide which changes you want to keep, and modify the file so it looks as you wish directly from the editor. Remove the unnecessary characters. Add, commit and push the changes.\n",
    "\n",
    "```\n",
    "git add README.md\n",
    "git commit -m \"resolving merge conflict\"\n",
    "git push origin master\n",
    "```\n",
    "\n",
    "You can continue working on as usual.\n",
    "\n",
    "\n",
    "! Remember to pull often and push small changes to avoid messing with complicatd merges and keep your repo up-to-date."
   ]
  },
  {
   "cell_type": "markdown",
   "metadata": {},
   "source": [
    "## 6. Avoiding problems: forking workflow\n",
    "\n",
    "Some merge conflicts can be avoided by working with Forks.\n",
    "\n",
    "Forks are public copies of the main repo, from which  \n",
    "\n",
    "* Sync your local repo with the public one\n",
    "* Fork the public repo\n",
    "![](img/fork_button.png)\n",
    "\n",
    "\t* Note it looks the same but the web address contains your username\n",
    "    [www.github.com/valentina-s/ohw19-project-ProjectName](www.github.com/valentina-s/ohw19-project-ProjectName)\n",
    "    \n",
    "* Go to your local repo and rename your origin to point to the fork:"
   ]
  },
  {
   "cell_type": "code",
   "execution_count": 19,
   "metadata": {},
   "outputs": [],
   "source": [
    "!git remote rm origin\n",
    "!git remote add origin www.github.com/valentina-s/ohw19-project-ProjectName"
   ]
  },
  {
   "cell_type": "markdown",
   "metadata": {},
   "source": [
    "* Add a new remote to talk to the main repo:"
   ]
  },
  {
   "cell_type": "code",
   "execution_count": 20,
   "metadata": {},
   "outputs": [],
   "source": [
    "!git remote add upstream https://www.github.com/oceanhackweek/ohw19-project-ProjectName "
   ]
  },
  {
   "cell_type": "markdown",
   "metadata": {},
   "source": [
    "From now on you will push to `origin`, but you pull from `upstream`.\n",
    "\n",
    "\n",
    "! Make sure your origin contains your github username, and upstream contains the oceanhackweek name."
   ]
  },
  {
   "cell_type": "markdown",
   "metadata": {},
   "source": [
    "### Submitting changes via a pull request\n",
    "\n",
    "Make some changes to a file and commit and publish them.\n",
    "\n",
    "```\n",
    "git add README.md\n",
    "git commit -m \"more changes\"\n",
    "git push origin master\n",
    "```\n",
    "\n",
    "! Note they appear on your fork, but not on the main repo.\n",
    "\n",
    "Submit a pull request by clicking `New pull request`:\n",
    "\n",
    "![](img/newPR.png)\n",
    "\n",
    "* Explain what changes you have made.\n",
    "* Assign somebody for review.\n",
    "\n",
    "* Reviewer: look through changes in the files\n",
    "* Approve PR or ask for more changes.\n",
    "\n",
    "! Note: while your pull request is pending, any change you push to the fork will become a part of the request. This is useful if you are asked to make small changes before your PR is accepted.\n",
    "\n",
    "In general we encourage github users to submit changes to the main repo through pull requests, but direct push is still a viable workflow for small projects when participants work on the same documents.\n",
    "\n",
    "![](img/BasicForkWorkflow.png)"
   ]
  },
  {
   "cell_type": "markdown",
   "metadata": {},
   "source": [
    "## Version control and Jupyter notebooks\n",
    "\n",
    "* `git diff` gives rubbish on notebooks\n",
    "\t* notebooks are text files, but the information is stored in json format\n",
    "\n",
    "* split analysis in small notebooks, individual people working on individual notebooks, put longer code into functions and keep move functions to modules (.py files which work well with version control). \n",
    "\n",
    "* before committing clear output notebook output\n",
    "(images are stored in very long strings of crazy characters)\n",
    "\n",
    "* if you use the jupyter lab mode you can work with `.py` files instead of notebooks\n",
    "\t```\n",
    "\tjupyter lab\n",
    "\t```\n",
    "\n",
    "* nbdime: tool to diff notebooks [https://nbdime.readthedocs.io/en/latest/](https://nbdime.readthedocs.io/en/latest/)\n",
    "\n",
    "\n",
    "## Git and Pangeo\n",
    "\n",
    "\n",
    "You can access the terminal on Pangeo. From there you can use git and commit your work.\n",
    "\n",
    "![](img/TerminalPangeo.png)"
   ]
  },
  {
   "cell_type": "markdown",
   "metadata": {},
   "source": [
    "## Troubleshooting\n",
    "\n",
    "* Deleting files\n",
    "\n",
    "\t```\n",
    "\tgit rm filename.txt\t\n",
    "\trm filename.txt\n",
    "\t```\n",
    "\t\n",
    "\t!  `git rm` just removes the file from git, to delete the file completely  use the bash `rm` command after that\n",
    "\n",
    "* Reverting to the previous commit\n",
    "\t\n",
    "\t```\n",
    "\tgit revert HEAD\n",
    "\t```\n",
    "\t\n",
    "\t! Note your files in the local repo will be still there. "
   ]
  },
  {
   "cell_type": "markdown",
   "metadata": {},
   "source": [
    "## Structuring the repo\n",
    "\n",
    "Improve the `README.md` by filling individual sections from the project guidelines:\n",
    "\n",
    "[https://oceanhackweek.github.io/wiki/project_guidelines.html](https://oceanhackweek.github.io/wiki/project_guidelines.html)\n",
    "\n",
    "#### Project title\n",
    "\n",
    "#### Discussion Participants\n",
    "\n",
    "#### The problem\n",
    "\n",
    "#### Application example\n",
    "\n",
    "#### Specific tasks\n",
    "\n",
    "#### Existing methods\n",
    "\n",
    "#### Proposed methods/tools\n",
    "\n",
    "#### Background reading\n",
    "\n",
    "### Project Organization\n",
    "\n",
    "Data Science Projects:\n",
    "\n",
    "[https://drivendata.github.io/cookiecutter-data-science/#cookiecutter-data-science](https://drivendata.github.io/cookiecutter-data-science/#cookiecutter-data-science)\n",
    "\n",
    "Software Packages Projects:\n",
    "\n",
    "[https://github.com/uwescience/shablona](https://github.com/uwescience/shablona)\n",
    "\n",
    "### Adding a license\n",
    "\n",
    "Discuss with your teammates what license you will use for your code: [https://choosealicense.com/](https://choosealicense.com/)."
   ]
  },
  {
   "cell_type": "markdown",
   "metadata": {},
   "source": [
    "## References:\n",
    "\n",
    "* Software Carpentry Lesson:\n",
    "\t* \t[http://swcarpentry.github.io/git-novice/](http://swcarpentry.github.io/git-novice/)"
   ]
  }
 ],
 "metadata": {
  "kernelspec": {
   "display_name": "Python 3",
   "language": "python",
   "name": "python3"
  },
  "language_info": {
   "codemirror_mode": {
    "name": "ipython",
    "version": 3
   },
   "file_extension": ".py",
   "mimetype": "text/x-python",
   "name": "python",
   "nbconvert_exporter": "python",
   "pygments_lexer": "ipython3",
   "version": "3.7.3"
  }
 },
 "nbformat": 4,
 "nbformat_minor": 4
}
